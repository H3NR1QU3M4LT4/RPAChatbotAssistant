{
 "cells": [
  {
   "cell_type": "markdown",
   "metadata": {},
   "source": [
    "### imports"
   ]
  },
  {
   "cell_type": "code",
   "execution_count": 1,
   "metadata": {
    "ExecuteTime": {
     "end_time": "2023-08-17T12:24:45.270470Z",
     "start_time": "2023-08-17T12:24:44.261253Z"
    }
   },
   "outputs": [],
   "source": [
    "# import required libraries\n",
    "from azure.ai.ml import MLClient\n",
    "from azure.ai.ml.entities import (\n",
    "    ManagedOnlineEndpoint,\n",
    "    ManagedOnlineDeployment,\n",
    "    Model,\n",
    "    Environment,\n",
    "    CodeConfiguration,\n",
    ")\n",
    "from azure.identity import DefaultAzureCredential"
   ]
  },
  {
   "cell_type": "markdown",
   "metadata": {},
   "source": [
    "### Azure Client"
   ]
  },
  {
   "cell_type": "code",
   "execution_count": 2,
   "metadata": {
    "ExecuteTime": {
     "end_time": "2023-08-17T12:24:51.731341Z",
     "start_time": "2023-08-17T12:24:45.271450Z"
    }
   },
   "outputs": [],
   "source": [
    "from azure.ai.ml import MLClient\n",
    "from azure.identity import DefaultAzureCredential\n",
    "\n",
    "# authenticate\n",
    "credential = DefaultAzureCredential()\n",
    "\n",
    "# Get a handle to the workspace\n",
    "ml_client = MLClient(\n",
    "    credential=credential,\n",
    "    subscription_id=\"3f08624d-7ed5-4ba1-b47e-cd937f065423\",\n",
    "    resource_group_name=\"rg-ai-internal\",\n",
    "    workspace_name=\"mlops-rpachat-workspace\",\n",
    ")"
   ]
  },
  {
   "cell_type": "markdown",
   "metadata": {},
   "source": [
    "# Model"
   ]
  },
  {
   "cell_type": "code",
   "execution_count": 3,
   "metadata": {
    "ExecuteTime": {
     "end_time": "2023-08-17T12:24:53.767252Z",
     "start_time": "2023-08-17T12:24:51.732646Z"
    }
   },
   "outputs": [
    {
     "name": "stdout",
     "output_type": "stream",
     "text": [
      "azureml_c3c1900a-df67-4b87-af0a-5dbc58e7d498_output_mlflow_log_model_1478203792\n",
      "bert-rpa-intentions\n",
      "azureml_5cfda86a-92a2-4c77-96df-deefd0e831dc_output_mlflow_log_model_1750652398\n",
      "distilbert-rpa-intentions\n",
      "azureml_e5b0d701-3b01-4a32-a28c-55c86632485a_output_mlflow_log_model_1367965834\n",
      "roberta-rpa-intentions\n",
      "azureml_82d23883-72ec-4137-abff-20463c1fc8bf_output_mlflow_log_model_1390391588\n",
      "distilroberta-rpa-intentions\n",
      "azureml_6a0eeac1-8d9e-4641-b7fc-2d683576cbf4_output_mlflow_log_model_3231190\n",
      "albert-rpa-intentions\n",
      "azureml_cd086730-9ab9-4775-bd4a-55861c2ce73d_output_mlflow_log_model_1271318689\n",
      "xlnet-rpa-intentions\n",
      "azureml_04e239de-b9fe-44d1-94dc-ea026ded9526_output_mlflow_log_model_20189873\n",
      "bart-rpa-intentions\n",
      "azureml_2c66fc95-5919-4594-8244-fd2ae601d77a_output_mlflow_log_model_372064462\n",
      "electra-rpa-intentions\n",
      "test4f73b638259667501072546\n",
      "azureml_3f25c327-ae82-4ad7-ace1-d819b8a0ca38_output_mlflow_log_model_1586286118\n",
      "electra_small-rpa-intentions\n",
      "azureml_b716f445-cddd-44d3-81fe-856417164d32_output_mlflow_log_model_702241642\n",
      "distilbert_small-rpa-intentions\n",
      "azureml_6bfae447-207c-419e-b822-ab062fe8d22f_output_mlflow_log_model_2123580080\n",
      "distilrobertav2-rpa-intentions\n"
     ]
    }
   ],
   "source": [
    "models = ml_client.models.list()\n",
    "for model in models:\n",
    "    print(model.name)"
   ]
  },
  {
   "cell_type": "code",
   "execution_count": 4,
   "metadata": {
    "ExecuteTime": {
     "end_time": "2023-08-17T12:24:54.101464Z",
     "start_time": "2023-08-17T12:24:53.767976Z"
    }
   },
   "outputs": [
    {
     "name": "stdout",
     "output_type": "stream",
     "text": [
      "1\n"
     ]
    }
   ],
   "source": [
    "models = ml_client.models.list(name=\"distilrobertav2-rpa-intentions\")\n",
    "for model in models:\n",
    "    print(model.version)"
   ]
  },
  {
   "cell_type": "code",
   "execution_count": 5,
   "metadata": {
    "ExecuteTime": {
     "end_time": "2023-08-17T12:24:54.378949Z",
     "start_time": "2023-08-17T12:24:54.100924Z"
    }
   },
   "outputs": [
    {
     "name": "stdout",
     "output_type": "stream",
     "text": [
      "creation_context:\n",
      "  created_at: '2023-07-28T09:00:00.018279+00:00'\n",
      "  created_by: Joao.Yanga@merkle.com\n",
      "  created_by_type: User\n",
      "  last_modified_at: '2023-07-28T09:00:00.018279+00:00'\n",
      "  last_modified_by: Joao.Yanga@merkle.com\n",
      "  last_modified_by_type: User\n",
      "flavors:\n",
      "  python_function:\n",
      "    env: \"{\\n  \\\"conda\\\": \\\"conda.yaml\\\",\\n  \\\"virtualenv\\\": \\\"python_env.yaml\\\"\\n\\\n",
      "      }\"\n",
      "    loader_module: mlflow.transformers\n",
      "    model_binary: model\n",
      "    python_version: 3.11.4\n",
      "  transformers:\n",
      "    code: ''\n",
      "    components: \"[\\n  \\\"tokenizer\\\"\\n]\"\n",
      "    framework: pt\n",
      "    instance_type: TextClassificationPipeline\n",
      "    model_binary: model\n",
      "    pipeline_model_type: RobertaForSequenceClassification\n",
      "    source_model_name: distilrobertav2-rpa-intentions\n",
      "    task: text-classification\n",
      "    tokenizer_type: RobertaTokenizerFast\n",
      "    transformers_version: 4.31.0\n",
      "id: azureml:/subscriptions/3f08624d-7ed5-4ba1-b47e-cd937f065423/resourceGroups/rg-ai-internal/providers/Microsoft.MachineLearningServices/workspaces/mlops-rpachat-workspace/models/distilrobertav2-rpa-intentions/versions/1\n",
      "job_name: 6bfae447-207c-419e-b822-ab062fe8d22f\n",
      "name: distilrobertav2-rpa-intentions\n",
      "path: azureml://subscriptions/3f08624d-7ed5-4ba1-b47e-cd937f065423/resourceGroups/rg-ai-internal/workspaces/mlops-rpachat-workspace/datastores/workspaceartifactstore/paths/ExperimentRun/dcid.6bfae447-207c-419e-b822-ab062fe8d22f/distilrobertav2-rpa-intentions\n",
      "properties:\n",
      "  azureml.artifactPrefix: ExperimentRun/dcid.6bfae447-207c-419e-b822-ab062fe8d22f/distilrobertav2-rpa-intentions\n",
      "  azureml.storagePath: ExperimentRun/dcid.6bfae447-207c-419e-b822-ab062fe8d22f/distilrobertav2-rpa-intentions\n",
      "  flavors: python_function,transformers\n",
      "  flavors.python_function: \"{\\n  \\\"model_binary\\\": \\\"model\\\",\\n  \\\"loader_module\\\"\\\n",
      "    : \\\"mlflow.transformers\\\",\\n  \\\"python_version\\\": \\\"3.11.4\\\",\\n  \\\"env\\\": {\\n\\\n",
      "    \\    \\\"conda\\\": \\\"conda.yaml\\\",\\n    \\\"virtualenv\\\": \\\"python_env.yaml\\\"\\n  }\\n\\\n",
      "    }\"\n",
      "  flavors.transformers: \"{\\n  \\\"transformers_version\\\": \\\"4.31.0\\\",\\n  \\\"code\\\": null,\\n\\\n",
      "    \\  \\\"task\\\": \\\"text-classification\\\",\\n  \\\"instance_type\\\": \\\"TextClassificationPipeline\\\"\\\n",
      "    ,\\n  \\\"source_model_name\\\": \\\"distilrobertav2-rpa-intentions\\\",\\n  \\\"pipeline_model_type\\\"\\\n",
      "    : \\\"RobertaForSequenceClassification\\\",\\n  \\\"framework\\\": \\\"pt\\\",\\n  \\\"tokenizer_type\\\"\\\n",
      "    : \\\"RobertaTokenizerFast\\\",\\n  \\\"components\\\": [\\n    \\\"tokenizer\\\"\\n  ],\\n  \\\"\\\n",
      "    model_binary\\\": \\\"model\\\"\\n}\"\n",
      "  mlflow.modelSourceUri: azureml://westeurope.api.azureml.ms/mlflow/v2.0/subscriptions/3f08624d-7ed5-4ba1-b47e-cd937f065423/resourceGroups/rg-ai-internal/providers/Microsoft.MachineLearningServices/workspaces/mlops-rpachat-workspace/experiments/6fd6bd71-fb1b-47da-aab9-95cd891b2843/runs/6bfae447-207c-419e-b822-ab062fe8d22f/artifacts/distilrobertav2-rpa-intentions\n",
      "  model_json: '{\"run_id\": \"6bfae447-207c-419e-b822-ab062fe8d22f\", \"artifact_path\":\n",
      "    \"distilrobertav2-rpa-intentions\", \"utc_time_created\": \"2023-07-28 08:59:39.318332\",\n",
      "    \"flavors\": {\"python_function\": {\"model_binary\": \"model\", \"loader_module\": \"mlflow.transformers\",\n",
      "    \"python_version\": \"3.11.4\", \"env\": {\"conda\": \"conda.yaml\", \"virtualenv\": \"python_env.yaml\"}},\n",
      "    \"transformers\": {\"transformers_version\": \"4.31.0\", \"code\": null, \"task\": \"text-classification\",\n",
      "    \"instance_type\": \"TextClassificationPipeline\", \"source_model_name\": \"distilrobertav2-rpa-intentions\",\n",
      "    \"pipeline_model_type\": \"RobertaForSequenceClassification\", \"framework\": \"pt\",\n",
      "    \"tokenizer_type\": \"RobertaTokenizerFast\", \"components\": [\"tokenizer\"], \"model_binary\":\n",
      "    \"model\"}}, \"model_uuid\": \"e07d767846024a00bc570a31320612ec\", \"mlflow_version\":\n",
      "    \"2.5.0\", \"signature\": {\"inputs\": \"[{\\\"type\\\": \\\"string\\\"}]\", \"outputs\": \"[{\\\"type\\\":\n",
      "    \\\"string\\\", \\\"name\\\": \\\"label\\\"}, {\\\"type\\\": \\\"double\\\", \\\"name\\\": \\\"score\\\"}]\"}}'\n",
      "stage: Development\n",
      "tags: {}\n",
      "type: mlflow_model\n",
      "version: '1'\n",
      "\n",
      "<class 'azure.ai.ml.entities._assets._artifacts.model.Model'>\n"
     ]
    }
   ],
   "source": [
    "model_example = ml_client.models.get(name=\"distilrobertav2-rpa-intentions\", version=\"1\")\n",
    "print(model_example)\n",
    "print(type(model_example))"
   ]
  },
  {
   "cell_type": "markdown",
   "metadata": {},
   "source": [
    "### Env"
   ]
  },
  {
   "cell_type": "code",
   "execution_count": 6,
   "metadata": {
    "ExecuteTime": {
     "end_time": "2023-08-17T12:24:54.708534Z",
     "start_time": "2023-08-17T12:24:54.376747Z"
    }
   },
   "outputs": [
    {
     "name": "stdout",
     "output_type": "stream",
     "text": [
      "CliV2AnonymousEnvironment\n",
      "promptflow-runtime\n",
      "DefaultNcdEnv-mlflow-ubuntu20-04-py38-cpu-inference\n",
      "rpachat-custom-env\n",
      "AzureML-ACPT-pytorch-1.13-py38-cuda11.7-gpu\n",
      "AzureML-ACPT-pytorch-1.12-py38-cuda11.6-gpu\n",
      "AzureML-ACPT-pytorch-1.12-py39-cuda11.6-gpu\n",
      "AzureML-ACPT-pytorch-1.11-py38-cuda11.5-gpu\n",
      "AzureML-ACPT-pytorch-1.11-py38-cuda11.3-gpu\n",
      "AzureML-responsibleai-0.21-ubuntu20.04-py38-cpu\n",
      "AzureML-responsibleai-0.20-ubuntu20.04-py38-cpu\n",
      "AzureML-tensorflow-2.5-ubuntu20.04-py38-cuda11-gpu\n",
      "AzureML-tensorflow-2.6-ubuntu20.04-py38-cuda11-gpu\n",
      "AzureML-tensorflow-2.7-ubuntu20.04-py38-cuda11-gpu\n",
      "AzureML-sklearn-1.0-ubuntu20.04-py38-cpu\n",
      "AzureML-pytorch-1.10-ubuntu18.04-py38-cuda11-gpu\n",
      "AzureML-pytorch-1.9-ubuntu18.04-py37-cuda11-gpu\n",
      "AzureML-pytorch-1.8-ubuntu18.04-py37-cuda11-gpu\n",
      "AzureML-sklearn-0.24-ubuntu18.04-py37-cpu\n",
      "AzureML-lightgbm-3.2-ubuntu18.04-py37-cpu\n",
      "AzureML-pytorch-1.7-ubuntu18.04-py37-cuda11-gpu\n",
      "AzureML-tensorflow-2.4-ubuntu18.04-py37-cuda11-gpu\n",
      "AzureML-Triton\n",
      "AzureML-Designer-Score\n",
      "AzureML-VowpalWabbit-8.8.0\n",
      "AzureML-PyTorch-1.3-CPU\n"
     ]
    }
   ],
   "source": [
    "envs = ml_client.environments.list()\n",
    "for env in envs:\n",
    "    print(env.name)"
   ]
  },
  {
   "cell_type": "code",
   "execution_count": 7,
   "metadata": {
    "ExecuteTime": {
     "end_time": "2023-08-17T12:24:55.009959Z",
     "start_time": "2023-08-17T12:24:54.708877Z"
    }
   },
   "outputs": [
    {
     "name": "stdout",
     "output_type": "stream",
     "text": [
      "1\n",
      "1.2.0\n",
      "1.1.0\n",
      "1.0.0\n"
     ]
    }
   ],
   "source": [
    "envs = ml_client.environments.list(name=\"rpachat-custom-env\")\n",
    "for env in envs:\n",
    "    print(env.version)"
   ]
  },
  {
   "cell_type": "code",
   "execution_count": 8,
   "metadata": {
    "ExecuteTime": {
     "end_time": "2023-08-17T12:24:55.172504Z",
     "start_time": "2023-08-17T12:24:55.009760Z"
    }
   },
   "outputs": [
    {
     "name": "stdout",
     "output_type": "stream",
     "text": [
      "build:\n",
      "  dockerfile_path: Dockerfile\n",
      "  path: https://mlopsrpachatwo5555149226.blob.core.windows.net/azureml/WebUpload/08-11-2023_093850_UTC-df3e6ce5-da04-4527-aeda-223ba3b29851/\n",
      "creation_context:\n",
      "  created_at: '2023-08-11T09:38:53.138339+00:00'\n",
      "  created_by: Joao.Yanga@merkle.com\n",
      "  created_by_type: User\n",
      "  last_modified_at: '2023-08-11T09:38:53.138339+00:00'\n",
      "  last_modified_by: Joao.Yanga@merkle.com\n",
      "  last_modified_by_type: User\n",
      "description: Custom environment for RPA Chatbot Assistant Intentions pipeline\n",
      "id: azureml:/subscriptions/3f08624d-7ed5-4ba1-b47e-cd937f065423/resourceGroups/rg-ai-internal/providers/Microsoft.MachineLearningServices/workspaces/mlops-rpachat-workspace/environments/rpachat-custom-env/versions/1\n",
      "name: rpachat-custom-env\n",
      "os_type: linux\n",
      "tags:\n",
      "  datasets: 2.13.1\n",
      "  torch: 2.0.1\n",
      "  transformers: 4.30.2\n",
      "version: '1'\n",
      "\n",
      "<class 'azure.ai.ml.entities._assets.environment.Environment'>\n"
     ]
    }
   ],
   "source": [
    "env = ml_client.environments.get(name=\"rpachat-custom-env\", version=\"1\")\n",
    "print(env)\n",
    "print(type(env))"
   ]
  },
  {
   "cell_type": "markdown",
   "metadata": {},
   "source": [
    "### Deploymeny"
   ]
  },
  {
   "cell_type": "code",
   "execution_count": 9,
   "metadata": {
    "ExecuteTime": {
     "end_time": "2023-08-17T12:24:55.175872Z",
     "start_time": "2023-08-17T12:24:55.172212Z"
    }
   },
   "outputs": [],
   "source": [
    "# Define an endpoint name\n",
    "endpoint_name = \"my-endpoint\"\n",
    "\n",
    "# Example way to define a random name\n",
    "import datetime\n",
    "\n",
    "endpoint_name = \"endpt-\" + datetime.datetime.now().strftime(\"%m%d%H%M%f\")\n",
    "\n",
    "# create an online endpoint\n",
    "endpoint = ManagedOnlineEndpoint(\n",
    "    name = endpoint_name,\n",
    "    description=\"this is a sample endpoint\",\n",
    "    auth_mode=\"key\"\n",
    ")"
   ]
  },
  {
   "cell_type": "code",
   "execution_count": 10,
   "metadata": {
    "ExecuteTime": {
     "end_time": "2023-08-17T12:24:55.180546Z",
     "start_time": "2023-08-17T12:24:55.178661Z"
    }
   },
   "outputs": [],
   "source": [
    "from azure.ai.ml.entities import ManagedOnlineDeployment\n",
    "\n",
    "# define an online deployment\n",
    "# if you run into an out of quota error, change the instance_type to a comparable VM that is available.\\\n",
    "# Learn more on https://azure.microsoft.com/en-us/pricing/details/machine-learning/.\n",
    "blue_deployment = ManagedOnlineDeployment(\n",
    "    name=\"blue\",\n",
    "    endpoint_name=endpoint_name,\n",
    "    model=model_example,\n",
    "    environment=env,\n",
    "    code_configuration=CodeConfiguration(\n",
    "        code=\"../src/amls_components/deployment\",\n",
    "        scoring_script=\"score.py\"\n",
    "    ),\n",
    "    instance_type=\"Standard_DS2_v2\",\n",
    "    instance_count=1,\n",
    ")"
   ]
  },
  {
   "cell_type": "code",
   "execution_count": 11,
   "metadata": {
    "ExecuteTime": {
     "end_time": "2023-08-17T12:26:31.011555Z",
     "start_time": "2023-08-17T12:24:55.181140Z"
    }
   },
   "outputs": [
    {
     "data": {
      "text/plain": "ManagedOnlineEndpoint({'public_network_access': 'Enabled', 'provisioning_state': 'Succeeded', 'scoring_uri': 'https://endpt-08171324172419.westeurope.inference.ml.azure.com/score', 'openapi_uri': 'https://endpt-08171324172419.westeurope.inference.ml.azure.com/swagger.json', 'name': 'endpt-08171324172419', 'description': 'this is a sample endpoint', 'tags': {}, 'properties': {'azureml.onlineendpointid': '/subscriptions/3f08624d-7ed5-4ba1-b47e-cd937f065423/resourcegroups/rg-ai-internal/providers/microsoft.machinelearningservices/workspaces/mlops-rpachat-workspace/onlineendpoints/endpt-08171324172419', 'AzureAsyncOperationUri': 'https://management.azure.com/subscriptions/3f08624d-7ed5-4ba1-b47e-cd937f065423/providers/Microsoft.MachineLearningServices/locations/westeurope/mfeOperationsStatus/oe:4f73b4fd-afdc-4293-a09e-0b80db933c62:22c2b7e4-1058-430e-8f42-705ae246e47a?api-version=2022-02-01-preview'}, 'print_as_yaml': True, 'id': '/subscriptions/3f08624d-7ed5-4ba1-b47e-cd937f065423/resourceGroups/rg-ai-internal/providers/Microsoft.MachineLearningServices/workspaces/mlops-rpachat-workspace/onlineEndpoints/endpt-08171324172419', 'Resource__source_path': None, 'base_path': '/Users/steixe01/0-CODE/AzureDevopsRepos/RPAChatbotAssistant/rpachatbotassistant/DistilDataQuarry/notebooks', 'creation_context': None, 'serialize': <msrest.serialization.Serializer object at 0x123a483d0>, 'auth_mode': 'key', 'location': 'westeurope', 'identity': <azure.ai.ml.entities._credentials.IdentityConfiguration object at 0x121de1030>, 'traffic': {}, 'mirror_traffic': {}, 'kind': 'Managed'})"
     },
     "execution_count": 11,
     "metadata": {},
     "output_type": "execute_result"
    }
   ],
   "source": [
    "ml_client.online_endpoints.begin_create_or_update(endpoint).result()"
   ]
  },
  {
   "cell_type": "code",
   "execution_count": 12,
   "metadata": {
    "ExecuteTime": {
     "end_time": "2023-08-17T12:38:14.709924Z",
     "start_time": "2023-08-17T12:26:31.007687Z"
    }
   },
   "outputs": [
    {
     "name": "stderr",
     "output_type": "stream",
     "text": [
      "Instance type Standard_DS2_v2 may be too small for compute resources. Minimum recommended compute SKU is Standard_DS3_v2 for general purpose endpoints. Learn more about SKUs here: https://learn.microsoft.com/en-us/azure/machine-learning/referencemanaged-online-endpoints-vm-sku-list\n",
      "Check: endpoint endpt-08171324172419 exists\n",
      "\u001B[32mUploading deployment (0.0 MBs): 100%|██████████| 3076/3076 [00:00<00:00, 8616.42it/s]\n",
      "\u001B[39m\n",
      "\n"
     ]
    },
    {
     "name": "stdout",
     "output_type": "stream",
     "text": [
      ".................................................................................................................................."
     ]
    },
    {
     "data": {
      "text/plain": "ManagedOnlineDeployment({'private_network_connection': None, 'provisioning_state': 'Succeeded', 'endpoint_name': 'endpt-08171324172419', 'type': 'Managed', 'name': 'blue', 'description': None, 'tags': {}, 'properties': {'AzureAsyncOperationUri': 'https://management.azure.com/subscriptions/3f08624d-7ed5-4ba1-b47e-cd937f065423/providers/Microsoft.MachineLearningServices/locations/westeurope/mfeOperationsStatus/od:4f73b4fd-afdc-4293-a09e-0b80db933c62:87add928-d561-4cf2-bf67-2a48a7847442?api-version=2023-04-01-preview'}, 'print_as_yaml': True, 'id': '/subscriptions/3f08624d-7ed5-4ba1-b47e-cd937f065423/resourceGroups/rg-ai-internal/providers/Microsoft.MachineLearningServices/workspaces/mlops-rpachat-workspace/onlineEndpoints/endpt-08171324172419/deployments/blue', 'Resource__source_path': None, 'base_path': '/Users/steixe01/0-CODE/AzureDevopsRepos/RPAChatbotAssistant/rpachatbotassistant/DistilDataQuarry/notebooks', 'creation_context': None, 'serialize': <msrest.serialization.Serializer object at 0x123d32bf0>, 'model': '/subscriptions/3f08624d-7ed5-4ba1-b47e-cd937f065423/resourceGroups/rg-ai-internal/providers/Microsoft.MachineLearningServices/workspaces/mlops-rpachat-workspace/models/distilrobertav2-rpa-intentions/versions/1', 'code_configuration': {'code': '/subscriptions/3f08624d-7ed5-4ba1-b47e-cd937f065423/resourceGroups/rg-ai-internal/providers/Microsoft.MachineLearningServices/workspaces/mlops-rpachat-workspace/codes/d97df588-0c85-48c8-a321-239c21056c42/versions/1'}, 'environment': '/subscriptions/3f08624d-7ed5-4ba1-b47e-cd937f065423/resourceGroups/rg-ai-internal/providers/Microsoft.MachineLearningServices/workspaces/mlops-rpachat-workspace/environments/rpachat-custom-env/versions/1', 'environment_variables': {}, 'app_insights_enabled': False, 'scale_settings': <azure.ai.ml.entities._deployment.scale_settings.DefaultScaleSettings object at 0x123d31e10>, 'request_settings': <azure.ai.ml.entities._deployment.deployment_settings.OnlineRequestSettings object at 0x123d31de0>, 'liveness_probe': <azure.ai.ml.entities._deployment.deployment_settings.ProbeSettings object at 0x123d32560>, 'readiness_probe': <azure.ai.ml.entities._deployment.deployment_settings.ProbeSettings object at 0x123d32110>, 'instance_count': 1, 'arm_type': 'online_deployment', 'model_mount_path': None, 'instance_type': 'Standard_DS2_v2', 'data_collector': None, 'egress_public_network_access': 'Enabled'})"
     },
     "execution_count": 12,
     "metadata": {},
     "output_type": "execute_result"
    }
   ],
   "source": [
    "ml_client.online_deployments.begin_create_or_update(\n",
    "    deployment=blue_deployment).result()"
   ]
  },
  {
   "cell_type": "code",
   "execution_count": 13,
   "metadata": {
    "ExecuteTime": {
     "end_time": "2023-08-17T12:40:40.137679Z",
     "start_time": "2023-08-17T12:40:38.863303Z"
    }
   },
   "outputs": [
    {
     "data": {
      "text/plain": "ManagedOnlineEndpoint({'public_network_access': 'Enabled', 'provisioning_state': 'Succeeded', 'scoring_uri': 'https://endpt-08171324172419.westeurope.inference.ml.azure.com/score', 'openapi_uri': 'https://endpt-08171324172419.westeurope.inference.ml.azure.com/swagger.json', 'name': 'endpt-08171324172419', 'description': 'this is a sample endpoint', 'tags': {}, 'properties': {'azureml.onlineendpointid': '/subscriptions/3f08624d-7ed5-4ba1-b47e-cd937f065423/resourcegroups/rg-ai-internal/providers/microsoft.machinelearningservices/workspaces/mlops-rpachat-workspace/onlineendpoints/endpt-08171324172419', 'AzureAsyncOperationUri': 'https://management.azure.com/subscriptions/3f08624d-7ed5-4ba1-b47e-cd937f065423/providers/Microsoft.MachineLearningServices/locations/westeurope/mfeOperationsStatus/oe:4f73b4fd-afdc-4293-a09e-0b80db933c62:22c2b7e4-1058-430e-8f42-705ae246e47a?api-version=2022-02-01-preview'}, 'print_as_yaml': True, 'id': '/subscriptions/3f08624d-7ed5-4ba1-b47e-cd937f065423/resourceGroups/rg-ai-internal/providers/Microsoft.MachineLearningServices/workspaces/mlops-rpachat-workspace/onlineEndpoints/endpt-08171324172419', 'Resource__source_path': None, 'base_path': '/Users/steixe01/0-CODE/AzureDevopsRepos/RPAChatbotAssistant/rpachatbotassistant/DistilDataQuarry/notebooks', 'creation_context': None, 'serialize': <msrest.serialization.Serializer object at 0x123d6e530>, 'auth_mode': 'key', 'location': 'westeurope', 'identity': <azure.ai.ml.entities._credentials.IdentityConfiguration object at 0x111c09930>, 'traffic': {'blue': 0}, 'mirror_traffic': {}, 'kind': 'Managed'})"
     },
     "execution_count": 13,
     "metadata": {},
     "output_type": "execute_result"
    }
   ],
   "source": [
    "ml_client.online_endpoints.get(name=endpoint_name)"
   ]
  },
  {
   "cell_type": "markdown",
   "source": [
    "# TEST"
   ],
   "metadata": {
    "collapsed": false
   }
  },
  {
   "cell_type": "code",
   "execution_count": 16,
   "outputs": [
    {
     "name": "stdout",
     "output_type": "stream",
     "text": [
      "\"change_nib_or_iban\"\n"
     ]
    }
   ],
   "source": [
    "import urllib.request\n",
    "import json\n",
    "import os\n",
    "import ssl\n",
    "\n",
    "def allowSelfSignedHttps(allowed):\n",
    "    # bypass the server certificate verification on client side\n",
    "    if allowed and not os.environ.get('PYTHONHTTPSVERIFY', '') and getattr(ssl, '_create_unverified_context', None):\n",
    "        ssl._create_default_https_context = ssl._create_unverified_context\n",
    "\n",
    "allowSelfSignedHttps(True) # this line is needed if you use self-signed certificate in your scoring service.\n",
    "\n",
    "# Request data goes here\n",
    "# The example below assumes JSON formatting which may be updated\n",
    "# depending on the format your endpoint expects.\n",
    "# More information can be found here:\n",
    "# https://docs.microsoft.com/azure/machine-learning/how-to-deploy-advanced-entry-script\n",
    "data = {\"text\": \"I need to amend my Workday NIB to PT50331107063361899850090\"}\n",
    "\n",
    "body = str.encode(json.dumps(data))\n",
    "\n",
    "url = 'https://endpt-08171324172419.westeurope.inference.ml.azure.com/score'\n",
    "# Replace this with the primary/secondary key or AMLToken for the endpoint\n",
    "api_key = 'WzV6x4kU5kzfQHW39gP5DouHszvZKZwr'\n",
    "if not api_key:\n",
    "    raise Exception(\"A key should be provided to invoke the endpoint\")\n",
    "\n",
    "# The azureml-model-deployment header will force the request to go to a specific deployment.\n",
    "# Remove this header to have the request observe the endpoint traffic rules\n",
    "headers = {'Content-Type':'application/json', 'Authorization':('Bearer '+ api_key), 'azureml-model-deployment': 'blue' }\n",
    "\n",
    "req = urllib.request.Request(url, body, headers)\n",
    "\n",
    "try:\n",
    "    response = urllib.request.urlopen(req)\n",
    "\n",
    "    result = response.read().decode(\"utf-8\")\n",
    "    print(result)\n",
    "except urllib.error.HTTPError as error:\n",
    "    print(\"The request failed with status code: \" + str(error.code))\n",
    "\n",
    "    # Print the headers - they include the requert ID and the timestamp, which are useful for debugging the failure\n",
    "    print(error.info())\n",
    "    print(error.read().decode(\"utf8\", 'ignore'))"
   ],
   "metadata": {
    "collapsed": false,
    "ExecuteTime": {
     "end_time": "2023-08-17T12:56:37.813283Z",
     "start_time": "2023-08-17T12:56:37.373574Z"
    }
   }
  },
  {
   "cell_type": "code",
   "execution_count": null,
   "outputs": [],
   "source": [],
   "metadata": {
    "collapsed": false
   }
  }
 ],
 "metadata": {
  "kernelspec": {
   "display_name": "Python 3 (ipykernel)",
   "language": "python",
   "name": "python3"
  },
  "language_info": {
   "codemirror_mode": {
    "name": "ipython",
    "version": 3
   },
   "file_extension": ".py",
   "mimetype": "text/x-python",
   "name": "python",
   "nbconvert_exporter": "python",
   "pygments_lexer": "ipython3",
   "version": "3.10.11"
  }
 },
 "nbformat": 4,
 "nbformat_minor": 1
}
